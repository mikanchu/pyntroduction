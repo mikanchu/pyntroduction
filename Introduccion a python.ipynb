{
 "cells": [
  {
   "cell_type": "markdown",
   "metadata": {
    "slideshow": {
     "slide_type": "slide"
    }
   },
   "source": [
    "\n",
    "# Ya tenemos el interprete ejecutandose, vamos a empezar a tocar cosas!\n",
    "\n",
    "Primero de todo vamos a echarle una ojeada al Zen de Python"
   ]
  },
  {
   "cell_type": "code",
   "execution_count": 1,
   "metadata": {
    "slideshow": {
     "slide_type": "subslide"
    }
   },
   "outputs": [
    {
     "name": "stdout",
     "output_type": "stream",
     "text": [
      "The Zen of Python, by Tim Peters\n",
      "\n",
      "Beautiful is better than ugly.\n",
      "Explicit is better than implicit.\n",
      "Simple is better than complex.\n",
      "Complex is better than complicated.\n",
      "Flat is better than nested.\n",
      "Sparse is better than dense.\n",
      "Readability counts.\n",
      "Special cases aren't special enough to break the rules.\n",
      "Although practicality beats purity.\n",
      "Errors should never pass silently.\n",
      "Unless explicitly silenced.\n",
      "In the face of ambiguity, refuse the temptation to guess.\n",
      "There should be one-- and preferably only one --obvious way to do it.\n",
      "Although that way may not be obvious at first unless you're Dutch.\n",
      "Now is better than never.\n",
      "Although never is often better than *right* now.\n",
      "If the implementation is hard to explain, it's a bad idea.\n",
      "If the implementation is easy to explain, it may be a good idea.\n",
      "Namespaces are one honking great idea -- let's do more of those!\n"
     ]
    }
   ],
   "source": [
    "import this"
   ]
  },
  {
   "cell_type": "markdown",
   "metadata": {
    "slideshow": {
     "slide_type": "subslide"
    }
   },
   "source": [
    "Cuanto mas claro y sencillo, mejor."
   ]
  },
  {
   "cell_type": "markdown",
   "metadata": {
    "slideshow": {
     "slide_type": "slide"
    }
   },
   "source": [
    "Empezamos con las operaciones basicas"
   ]
  },
  {
   "cell_type": "markdown",
   "metadata": {
    "slideshow": {
     "slide_type": "fragment"
    }
   },
   "source": [
    "## Números y operaciones"
   ]
  },
  {
   "cell_type": "code",
   "execution_count": 2,
   "metadata": {
    "slideshow": {
     "slide_type": "fragment"
    }
   },
   "outputs": [
    {
     "data": {
      "text/plain": [
       "11"
      ]
     },
     "execution_count": 2,
     "metadata": {},
     "output_type": "execute_result"
    }
   ],
   "source": [
    "5 + 6"
   ]
  },
  {
   "cell_type": "code",
   "execution_count": 3,
   "metadata": {
    "slideshow": {
     "slide_type": "fragment"
    }
   },
   "outputs": [
    {
     "data": {
      "text/plain": [
       "-3"
      ]
     },
     "execution_count": 3,
     "metadata": {},
     "output_type": "execute_result"
    }
   ],
   "source": [
    "5 - 8 "
   ]
  },
  {
   "cell_type": "code",
   "execution_count": 4,
   "metadata": {
    "slideshow": {
     "slide_type": "fragment"
    }
   },
   "outputs": [
    {
     "data": {
      "text/plain": [
       "40"
      ]
     },
     "execution_count": 4,
     "metadata": {},
     "output_type": "execute_result"
    }
   ],
   "source": [
    "5 * 8"
   ]
  },
  {
   "cell_type": "code",
   "execution_count": 5,
   "metadata": {
    "slideshow": {
     "slide_type": "fragment"
    }
   },
   "outputs": [
    {
     "data": {
      "text/plain": [
       "5.0"
      ]
     },
     "execution_count": 5,
     "metadata": {},
     "output_type": "execute_result"
    }
   ],
   "source": [
    "40 / 8"
   ]
  },
  {
   "cell_type": "code",
   "execution_count": 6,
   "metadata": {
    "slideshow": {
     "slide_type": "fragment"
    }
   },
   "outputs": [
    {
     "data": {
      "text/plain": [
       "13.333333333333334"
      ]
     },
     "execution_count": 6,
     "metadata": {},
     "output_type": "execute_result"
    }
   ],
   "source": [
    "40 / 3"
   ]
  },
  {
   "cell_type": "markdown",
   "metadata": {
    "slideshow": {
     "slide_type": "slide"
    }
   },
   "source": [
    "## Cadenas de caracteres o Strings"
   ]
  },
  {
   "cell_type": "code",
   "execution_count": 7,
   "metadata": {
    "slideshow": {
     "slide_type": "fragment"
    }
   },
   "outputs": [
    {
     "data": {
      "text/plain": [
       "'Elena'"
      ]
     },
     "execution_count": 7,
     "metadata": {},
     "output_type": "execute_result"
    }
   ],
   "source": [
    "'Elena'"
   ]
  },
  {
   "cell_type": "code",
   "execution_count": 8,
   "metadata": {
    "slideshow": {
     "slide_type": "fragment"
    }
   },
   "outputs": [
    {
     "data": {
      "text/plain": [
       "'Hola, soyElena'"
      ]
     },
     "execution_count": 8,
     "metadata": {},
     "output_type": "execute_result"
    }
   ],
   "source": [
    "'Hola, soy' + 'Elena'"
   ]
  },
  {
   "cell_type": "code",
   "execution_count": 9,
   "metadata": {
    "slideshow": {
     "slide_type": "fragment"
    }
   },
   "outputs": [
    {
     "data": {
      "text/plain": [
       "str"
      ]
     },
     "execution_count": 9,
     "metadata": {},
     "output_type": "execute_result"
    }
   ],
   "source": [
    "type('Elena')"
   ]
  },
  {
   "cell_type": "code",
   "execution_count": 10,
   "metadata": {
    "slideshow": {
     "slide_type": "fragment"
    }
   },
   "outputs": [
    {
     "data": {
      "text/plain": [
       "5"
      ]
     },
     "execution_count": 10,
     "metadata": {},
     "output_type": "execute_result"
    }
   ],
   "source": [
    " len('Elena')"
   ]
  },
  {
   "cell_type": "code",
   "execution_count": 11,
   "metadata": {
    "slideshow": {
     "slide_type": "fragment"
    }
   },
   "outputs": [
    {
     "data": {
      "text/plain": [
       "'eco, '"
      ]
     },
     "execution_count": 11,
     "metadata": {},
     "output_type": "execute_result"
    }
   ],
   "source": [
    "a = 'eco, '*5\n",
    "a\n",
    "a[:5]"
   ]
  },
  {
   "cell_type": "markdown",
   "metadata": {
    "slideshow": {
     "slide_type": "slide"
    }
   },
   "source": [
    "## Variables. \n",
    "\n",
    "Las variables sirven para guardar cosas que.... \n",
    "\n",
    "queremos usar (o no) después"
   ]
  },
  {
   "cell_type": "markdown",
   "metadata": {
    "slideshow": {
     "slide_type": "fragment"
    }
   },
   "source": [
    "Lo bueno es que python te las crea a medida que las necesitas."
   ]
  },
  {
   "cell_type": "code",
   "execution_count": 12,
   "metadata": {
    "slideshow": {
     "slide_type": "fragment"
    }
   },
   "outputs": [
    {
     "name": "stdout",
     "output_type": "stream",
     "text": [
      "Elena <class 'str'>\n"
     ]
    }
   ],
   "source": [
    "nombre = 'Elena'\n",
    "print(nombre, type(nombre))"
   ]
  },
  {
   "cell_type": "code",
   "execution_count": 13,
   "metadata": {
    "slideshow": {
     "slide_type": "fragment"
    }
   },
   "outputs": [
    {
     "data": {
      "text/plain": [
       "5"
      ]
     },
     "execution_count": 13,
     "metadata": {},
     "output_type": "execute_result"
    }
   ],
   "source": [
    "len(nombre)"
   ]
  },
  {
   "cell_type": "code",
   "execution_count": 14,
   "metadata": {
    "collapsed": true,
    "slideshow": {
     "slide_type": "fragment"
    }
   },
   "outputs": [],
   "source": [
    "saludo = 'Hola, soy '"
   ]
  },
  {
   "cell_type": "code",
   "execution_count": 15,
   "metadata": {
    "slideshow": {
     "slide_type": "fragment"
    }
   },
   "outputs": [
    {
     "data": {
      "text/plain": [
       "'Hola, soy Elena'"
      ]
     },
     "execution_count": 15,
     "metadata": {},
     "output_type": "execute_result"
    }
   ],
   "source": [
    "saludo + nombre  "
   ]
  },
  {
   "cell_type": "markdown",
   "metadata": {
    "slideshow": {
     "slide_type": "slide"
    }
   },
   "source": [
    "## Listas y tuplas\n",
    "Hay que diferenciar entre tuplas () y listas []"
   ]
  },
  {
   "cell_type": "code",
   "execution_count": 16,
   "metadata": {
    "collapsed": true,
    "slideshow": {
     "slide_type": "fragment"
    }
   },
   "outputs": [],
   "source": [
    "dedos = ('Pulgar', 'Índice', 'Corazón', 'Anular', 'Meñique')\n",
    "lista_de_cosas = ['AngulADA', 'QuedADA', 'CostillADA']"
   ]
  },
  {
   "cell_type": "code",
   "execution_count": 17,
   "metadata": {
    "slideshow": {
     "slide_type": "fragment"
    }
   },
   "outputs": [
    {
     "data": {
      "text/plain": [
       "3"
      ]
     },
     "execution_count": 17,
     "metadata": {},
     "output_type": "execute_result"
    }
   ],
   "source": [
    "len(dedos) \n",
    "len(lista_de_cosas)"
   ]
  },
  {
   "cell_type": "code",
   "execution_count": 18,
   "metadata": {
    "slideshow": {
     "slide_type": "fragment"
    }
   },
   "outputs": [],
   "source": [
    "lista_de_cosas.append('EscapADA')\n",
    "lista_de_cosas.append('AtolondrADA')"
   ]
  },
  {
   "cell_type": "code",
   "execution_count": 19,
   "metadata": {
    "slideshow": {
     "slide_type": "fragment"
    }
   },
   "outputs": [
    {
     "data": {
      "text/plain": [
       "5"
      ]
     },
     "execution_count": 19,
     "metadata": {},
     "output_type": "execute_result"
    }
   ],
   "source": [
    "len(lista_de_cosas)"
   ]
  },
  {
   "cell_type": "code",
   "execution_count": 20,
   "metadata": {
    "slideshow": {
     "slide_type": "fragment"
    }
   },
   "outputs": [],
   "source": [
    "manos = dedos * 2"
   ]
  },
  {
   "cell_type": "markdown",
   "metadata": {
    "slideshow": {
     "slide_type": "notes"
    }
   },
   "source": [
    "imprimir manos, hacer un set de manos"
   ]
  },
  {
   "cell_type": "markdown",
   "metadata": {
    "slideshow": {
     "slide_type": "slide"
    }
   },
   "source": [
    "## Diccionarios\n",
    "\n",
    "Estructura diferente representado como {}.\n",
    "\n",
    "Un diccionario muy conocido es el JSON.\n",
    "\n",
    "Son pares de clave - valor. La clave suele ser una cadena de texto y el valor... cualquier cosa\n",
    "\n",
    "Son muy eficientes para busquedas concretas pero son horrorosos cuando tienes que recorrer sus elementos\n",
    "\n",
    "https://learnpythonthehardway.org/book/ex39.html"
   ]
  },
  {
   "cell_type": "code",
   "execution_count": 21,
   "metadata": {
    "slideshow": {
     "slide_type": "fragment"
    }
   },
   "outputs": [],
   "source": [
    "diccionario = {}"
   ]
  },
  {
   "cell_type": "code",
   "execution_count": 22,
   "metadata": {
    "slideshow": {
     "slide_type": "subslide"
    }
   },
   "outputs": [],
   "source": [
    "diccionario['edad'] = 28\n",
    "diccionario['vive'] = 'Barcelona'\n",
    "diccionario['le gusta'] = ['tecnologia', 'animales', 'verduras', 'viajar']\n",
    "diccionario['ojos'] = 'rosas'\n",
    "diccionario['disgusta'] = ['violencia']\n",
    "diccionario['practica_deporte'] = False\n",
    "diccionario['viste'] = 'casual'\n",
    "diccionario['trabaja'] = True"
   ]
  },
  {
   "cell_type": "markdown",
   "metadata": {
    "slideshow": {
     "slide_type": "slide"
    }
   },
   "source": [
    "## Funciones\n",
    "\n",
    "Las funciones son cajas negras en las que introducimos cosas y recogemos resultados.\n",
    "\n",
    "  * Fabrica\n",
    "  * Ministerio\n",
    "  * Politicos\n",
    "  * Personas\n"
   ]
  },
  {
   "cell_type": "code",
   "execution_count": 23,
   "metadata": {
    "slideshow": {
     "slide_type": "fragment"
    }
   },
   "outputs": [
    {
     "name": "stdout",
     "output_type": "stream",
     "text": [
      "Hello, AdaJS!\n",
      "Have a nice day\n"
     ]
    }
   ],
   "source": [
    "def sayHelloTo(name):\n",
    "    print(\"Hello, {}!\\nHave a nice day\".format(name))\n",
    "    \n",
    "sayHelloTo(\"AdaJS\")"
   ]
  },
  {
   "cell_type": "markdown",
   "metadata": {
    "slideshow": {
     "slide_type": "slide"
    }
   },
   "source": [
    "## Clases\n",
    "\n",
    "Las clases permiten representar el comportamiento del mundo real.\n",
    "\n",
    "  * Persona\n",
    "  * Animal\n",
    "  * Casa\n",
    "  * Ciudad\n",
    "  * Dinero\n"
   ]
  },
  {
   "cell_type": "code",
   "execution_count": 24,
   "metadata": {
    "slideshow": {
     "slide_type": "fragment"
    }
   },
   "outputs": [],
   "source": [
    "class Casa(object):\n",
    "    \n",
    "    def __init__(self, tamaño, propietario, habitaciones=3, lavabos=2, cocina=1, balcon=None):\n",
    "        self.tamaño = tamaño\n",
    "        self.propietario = propietario\n",
    "        self.habitaciones = habitaciones\n",
    "        self.lavabos = lavabos\n",
    "        self.cocina = cocina\n",
    "        self.balcon = balcon\n",
    "        \n",
    "    def cambio_propietario(self, nuevo_propietario):\n",
    "        self.propietario = nuevo_propietario\n",
    "        \n",
    "    def hacer_nueva_habitacion(self):\n",
    "        self.habitaciones += 1\n",
    "        \n",
    "    def hacer_nuevo_balcon(self):\n",
    "        if self.balcon is not None:\n",
    "            self.balcon += 1\n",
    "        else:\n",
    "            self.balcon = 1\n",
    "        \n",
    "    def tiene_balcon(self):\n",
    "        return False if self.balcon is None else True\n",
    "    \n",
    "    def __str__(self):\n",
    "        return \"\"\"Casa de {} de tamaño {}m2.\\nCon {} habitaciones y {} lavabos.\"\"\".format(self.propietario, \n",
    "                                                                                         self.tamaño, \n",
    "                                                                                         self.habitaciones, \n",
    "                                                                                         self.lavabos)"
   ]
  },
  {
   "cell_type": "code",
   "execution_count": null,
   "metadata": {
    "slideshow": {
     "slide_type": "fragment"
    }
   },
   "outputs": [],
   "source": []
  },
  {
   "cell_type": "markdown",
   "metadata": {
    "slideshow": {
     "slide_type": "slide"
    }
   },
   "source": [
    "# Ejerciciopara hacer:\n",
    "\n",
    "### Calculadora pesada\n",
    "\n",
    "1. Nos lista las operaciones. Usar `print`\n",
    "2. Lee la operacion que queremos hacer. Usar `input`\n",
    "3. Hace la operacion y imprime el resultado `print`\n",
    "4. Nos pregunta si queremos guardar la operacion en el log `write`\n",
    "5. GoTo #1."
   ]
  },
  {
   "cell_type": "markdown",
   "metadata": {
    "slideshow": {
     "slide_type": "slide"
    }
   },
   "source": [
    "## Listar de operaciones\n",
    "\n",
    "Operaciones:\n",
    "- Suma: x + y\n",
    "- Resta: x - y\n",
    "- Multiplicacion: x * y\n",
    "- Division: x / y\n",
    "- Modulo: x % y\n"
   ]
  },
  {
   "cell_type": "code",
   "execution_count": 25,
   "metadata": {
    "slideshow": {
     "slide_type": "fragment"
    }
   },
   "outputs": [],
   "source": [
    "#!/usr/bin/env python\n",
    "\"\"\"A simple python script template.\n",
    "\"\"\"\n",
    "import sys\n",
    "\n",
    "def main(arguments):\n",
    "\n",
    "    # Your code goes here\n",
    "    return 0\n",
    "\n",
    "# this is a directive to tell the interpreter what to do when executed in standalone\n",
    "if __name__ == '__main__':\n",
    "    main(sys.argv[1:])"
   ]
  },
  {
   "cell_type": "code",
   "execution_count": 1,
   "metadata": {
    "slideshow": {
     "slide_type": "slide"
    }
   },
   "outputs": [
    {
     "name": "stdout",
     "output_type": "stream",
     "text": [
      "Que operacion quieres hacer?\n",
      "\tSumar: x + y\n",
      "\tRestar: x - y\n",
      "\tMultiplicar: x * y\n",
      "\tDividir: x / y\n",
      "\tModulo: x % b\n"
     ]
    }
   ],
   "source": [
    "#!/usr/bin/env python\n",
    "\"\"\"\n",
    "    A simple Calculator\n",
    "\"\"\"\n",
    "import sys\n",
    "\n",
    "def listar_operaciones():\n",
    "    # Listamos las operaciones\n",
    "    operations = ['Sumar: x + y', \n",
    "                  'Restar: x - y', \n",
    "                  'Multiplicar: x * y', \n",
    "                  'Dividir: x / y', \n",
    "                  'Modulo: x % b']\n",
    "    \n",
    "    #Imprimimos las instrucciones\n",
    "    print(\"Que operacion quieres hacer?\")\n",
    "    for operation in operations:\n",
    "        print(\"\\t{}\".format(operation))\n",
    "        \n",
    "def main(arguments):\n",
    "    listar_operaciones()\n",
    "\n",
    "# this is a directive to tell the interpreter what to do when executed in standalone\n",
    "if __name__ == '__main__':\n",
    "    main(sys.argv[1:])"
   ]
  },
  {
   "cell_type": "markdown",
   "metadata": {
    "slideshow": {
     "slide_type": "slide"
    }
   },
   "source": [
    "## Modificarlo para lea la operacion que queremos hacer\n",
    "\n",
    "https://docs.python.org/3/library/functions.html#input\n",
    "\n",
    "Propuesta: \n",
    "- Poner como restriccion el espacio requerido entre numero y simbolo de operacion\n",
    "- Usar la libreria re: \n",
    "\n",
    "    ```import re\n",
    "       list_elem = re.split('\\s', inputstring)\n",
    "    ```\n"
   ]
  },
  {
   "cell_type": "code",
   "execution_count": 14,
   "metadata": {
    "slideshow": {
     "slide_type": "fragment"
    }
   },
   "outputs": [
    {
     "name": "stdout",
     "output_type": "stream",
     "text": [
      "Que operacion quieres hacer?\n",
      "\tSumar: x + y\n",
      "\tRestar: x - y\n",
      "\tMultiplicar: x * y\n",
      "\tDividir: x / y\n",
      "\tModulo: x % b\n",
      "-->128937 / 123\n",
      "['128937', '/', '123']\n"
     ]
    }
   ],
   "source": [
    "\n",
    "def leer_operacion():\n",
    "    import re\n",
    "    operation = input('-->')\n",
    "    list_elem = re.split('\\s',operation)\n",
    "    return list_elem\n",
    "\n",
    "\n",
    "\n",
    "def main(arguments):\n",
    "    listar_operaciones()\n",
    "    operacion = leer_operacion()\n",
    "    print(operacion)\n",
    "\n",
    "# this is a directive to tell the interpreter what to do when executed in standalone\n",
    "if __name__ == '__main__':\n",
    "    main(sys.argv[1:])"
   ]
  },
  {
   "cell_type": "code",
   "execution_count": 21,
   "metadata": {
    "slideshow": {
     "slide_type": "slide"
    }
   },
   "outputs": [],
   "source": [
    "def realizar_operacion(operation_list):\n",
    "    \n",
    "    resultado = 0\n",
    "    if operation_list[1] == '+':\n",
    "        # Vamos a sumar!\n",
    "        resultado = int(operation_list[0]) + int(operation_list[2])\n",
    "    elif operation_list[1] == '-':\n",
    "        # vamos a restar\n",
    "        resultado = int(operation_list[0]) - int(operation_list[1])\n",
    "    elif operation_list[1] == '*':\n",
    "        # vamos a multiplicar\n",
    "        resultado = int(operation_list[0]) * int(operation_list[1])\n",
    "    elif operation_list[1] == '/' :\n",
    "        # vamos a dividir\n",
    "        resultado = int(operation_list[0]) / int(operation_list[1])\n",
    "    elif operation_list[1] == '%':\n",
    "        # vamos a hacer un modulus\n",
    "        resultado = int(operation_list[0]) % int(operation_list[1])\n",
    "    else:\n",
    "        resultado = \"No entiendo lo que me pides...\"\n",
    "    return resultado"
   ]
  },
  {
   "cell_type": "code",
   "execution_count": 20,
   "metadata": {
    "slideshow": {
     "slide_type": "slide"
    }
   },
   "outputs": [
    {
     "name": "stdout",
     "output_type": "stream",
     "text": [
      "Que operacion quieres hacer?\n",
      "\tSumar: x + y\n",
      "\tRestar: x - y\n",
      "\tMultiplicar: x * y\n",
      "\tDividir: x / y\n",
      "\tModulo: x % b\n",
      "-->2314 / 42\n"
     ]
    },
    {
     "ename": "ValueError",
     "evalue": "invalid literal for int() with base 10: '/'",
     "output_type": "error",
     "traceback": [
      "\u001b[0;31m---------------------------------------------------------------------------\u001b[0m",
      "\u001b[0;31mValueError\u001b[0m                                Traceback (most recent call last)",
      "\u001b[0;32m<ipython-input-20-8fa2e4d0f2b7>\u001b[0m in \u001b[0;36m<module>\u001b[0;34m()\u001b[0m\n\u001b[1;32m      9\u001b[0m \u001b[0;31m# this is a directive to tell the interpreter what to do when executed in standalone\u001b[0m\u001b[0;34m\u001b[0m\u001b[0;34m\u001b[0m\u001b[0m\n\u001b[1;32m     10\u001b[0m \u001b[0;32mif\u001b[0m \u001b[0m__name__\u001b[0m \u001b[0;34m==\u001b[0m \u001b[0;34m'__main__'\u001b[0m\u001b[0;34m:\u001b[0m\u001b[0;34m\u001b[0m\u001b[0m\n\u001b[0;32m---> 11\u001b[0;31m     \u001b[0mmain\u001b[0m\u001b[0;34m(\u001b[0m\u001b[0msys\u001b[0m\u001b[0;34m.\u001b[0m\u001b[0margv\u001b[0m\u001b[0;34m[\u001b[0m\u001b[0;36m1\u001b[0m\u001b[0;34m:\u001b[0m\u001b[0;34m]\u001b[0m\u001b[0;34m)\u001b[0m\u001b[0;34m\u001b[0m\u001b[0m\n\u001b[0m",
      "\u001b[0;32m<ipython-input-20-8fa2e4d0f2b7>\u001b[0m in \u001b[0;36mmain\u001b[0;34m(arguments)\u001b[0m\n\u001b[1;32m      4\u001b[0m     \u001b[0mlistar_operaciones\u001b[0m\u001b[0;34m(\u001b[0m\u001b[0;34m)\u001b[0m\u001b[0;34m\u001b[0m\u001b[0m\n\u001b[1;32m      5\u001b[0m     \u001b[0moperacion\u001b[0m \u001b[0;34m=\u001b[0m \u001b[0mleer_operacion\u001b[0m\u001b[0;34m(\u001b[0m\u001b[0;34m)\u001b[0m\u001b[0;34m\u001b[0m\u001b[0m\n\u001b[0;32m----> 6\u001b[0;31m     \u001b[0mresultado\u001b[0m \u001b[0;34m=\u001b[0m \u001b[0mrealizar_operacion\u001b[0m\u001b[0;34m(\u001b[0m\u001b[0moperacion\u001b[0m\u001b[0;34m)\u001b[0m\u001b[0;34m\u001b[0m\u001b[0m\n\u001b[0m\u001b[1;32m      7\u001b[0m     \u001b[0mprint\u001b[0m\u001b[0;34m(\u001b[0m\u001b[0mresultado\u001b[0m\u001b[0;34m)\u001b[0m\u001b[0;34m\u001b[0m\u001b[0m\n\u001b[1;32m      8\u001b[0m \u001b[0;34m\u001b[0m\u001b[0m\n",
      "\u001b[0;32m<ipython-input-19-42d56471311a>\u001b[0m in \u001b[0;36mrealizar_operacion\u001b[0;34m(operation_list)\u001b[0m\n\u001b[1;32m     13\u001b[0m     \u001b[0;32melif\u001b[0m \u001b[0moperation_list\u001b[0m\u001b[0;34m[\u001b[0m\u001b[0;36m1\u001b[0m\u001b[0;34m]\u001b[0m \u001b[0;34m==\u001b[0m \u001b[0;34m'/'\u001b[0m \u001b[0;34m:\u001b[0m\u001b[0;34m\u001b[0m\u001b[0m\n\u001b[1;32m     14\u001b[0m         \u001b[0;31m# vamos a dividir\u001b[0m\u001b[0;34m\u001b[0m\u001b[0;34m\u001b[0m\u001b[0m\n\u001b[0;32m---> 15\u001b[0;31m         \u001b[0mresultado\u001b[0m \u001b[0;34m=\u001b[0m \u001b[0mfloat\u001b[0m\u001b[0;34m(\u001b[0m\u001b[0mint\u001b[0m\u001b[0;34m(\u001b[0m\u001b[0moperation_list\u001b[0m\u001b[0;34m[\u001b[0m\u001b[0;36m0\u001b[0m\u001b[0;34m]\u001b[0m\u001b[0;34m)\u001b[0m \u001b[0;34m/\u001b[0m \u001b[0mint\u001b[0m\u001b[0;34m(\u001b[0m\u001b[0moperation_list\u001b[0m\u001b[0;34m[\u001b[0m\u001b[0;36m1\u001b[0m\u001b[0;34m]\u001b[0m\u001b[0;34m)\u001b[0m\u001b[0;34m)\u001b[0m\u001b[0;34m\u001b[0m\u001b[0m\n\u001b[0m\u001b[1;32m     16\u001b[0m     \u001b[0;32melif\u001b[0m \u001b[0moperation_list\u001b[0m\u001b[0;34m[\u001b[0m\u001b[0;36m1\u001b[0m\u001b[0;34m]\u001b[0m \u001b[0;34m==\u001b[0m \u001b[0;34m'%'\u001b[0m\u001b[0;34m:\u001b[0m\u001b[0;34m\u001b[0m\u001b[0m\n\u001b[1;32m     17\u001b[0m         \u001b[0;31m# vamos a hacer un modulus\u001b[0m\u001b[0;34m\u001b[0m\u001b[0;34m\u001b[0m\u001b[0m\n",
      "\u001b[0;31mValueError\u001b[0m: invalid literal for int() with base 10: '/'"
     ]
    }
   ],
   "source": [
    "\n",
    "\n",
    "def main(arguments):\n",
    "    listar_operaciones()\n",
    "    operacion = leer_operacion()\n",
    "    resultado = realizar_operacion(operacion)\n",
    "    print(resultado)\n",
    "    \n",
    "# this is a directive to tell the interpreter what to do when executed in standalone\n",
    "if __name__ == '__main__':\n",
    "    main(sys.argv[1:])"
   ]
  },
  {
   "cell_type": "markdown",
   "metadata": {
    "slideshow": {
     "slide_type": "slide"
    }
   },
   "source": [
    "## Creamos un script para que lea el fichero que hemos generado y os lo imprima por pantalla.\n",
    "\n",
    "https://docs.python.org/3/tutorial/inputoutput.html#reading-and-writing-files"
   ]
  },
  {
   "cell_type": "code",
   "execution_count": null,
   "metadata": {
    "slideshow": {
     "slide_type": "skip"
    }
   },
   "outputs": [],
   "source": []
  },
  {
   "cell_type": "code",
   "execution_count": null,
   "metadata": {
    "collapsed": true
   },
   "outputs": [],
   "source": []
  }
 ],
 "metadata": {
  "celltoolbar": "Slideshow",
  "kernelspec": {
   "display_name": "Python 3",
   "language": "python",
   "name": "python3"
  },
  "language_info": {
   "codemirror_mode": {
    "name": "ipython",
    "version": 3
   },
   "file_extension": ".py",
   "mimetype": "text/x-python",
   "name": "python",
   "nbconvert_exporter": "python",
   "pygments_lexer": "ipython3",
   "version": "3.6.1"
  }
 },
 "nbformat": 4,
 "nbformat_minor": 1
}
