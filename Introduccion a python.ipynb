{
 "cells": [
  {
   "cell_type": "markdown",
   "metadata": {
    "slideshow": {
     "slide_type": "slide"
    }
   },
   "source": [
    "\n",
    "# Ya tenemos el interprete ejecutandose, vamos a empezar a tocar cosas!\n",
    "\n",
    "Primero de todo vamos a echarle una ojeada al Zen de Python"
   ]
  },
  {
   "cell_type": "code",
   "execution_count": 1,
   "metadata": {
    "collapsed": false,
    "slideshow": {
     "slide_type": "subslide"
    }
   },
   "outputs": [
    {
     "name": "stdout",
     "output_type": "stream",
     "text": [
      "The Zen of Python, by Tim Peters\n",
      "\n",
      "Beautiful is better than ugly.\n",
      "Explicit is better than implicit.\n",
      "Simple is better than complex.\n",
      "Complex is better than complicated.\n",
      "Flat is better than nested.\n",
      "Sparse is better than dense.\n",
      "Readability counts.\n",
      "Special cases aren't special enough to break the rules.\n",
      "Although practicality beats purity.\n",
      "Errors should never pass silently.\n",
      "Unless explicitly silenced.\n",
      "In the face of ambiguity, refuse the temptation to guess.\n",
      "There should be one-- and preferably only one --obvious way to do it.\n",
      "Although that way may not be obvious at first unless you're Dutch.\n",
      "Now is better than never.\n",
      "Although never is often better than *right* now.\n",
      "If the implementation is hard to explain, it's a bad idea.\n",
      "If the implementation is easy to explain, it may be a good idea.\n",
      "Namespaces are one honking great idea -- let's do more of those!\n"
     ]
    }
   ],
   "source": [
    "import this"
   ]
  },
  {
   "cell_type": "markdown",
   "metadata": {
    "slideshow": {
     "slide_type": "subslide"
    }
   },
   "source": [
    "Cuanto mas claro y sencillo, mejor."
   ]
  },
  {
   "cell_type": "markdown",
   "metadata": {
    "slideshow": {
     "slide_type": "slide"
    }
   },
   "source": [
    "Empezamos con las operaciones basicas"
   ]
  },
  {
   "cell_type": "markdown",
   "metadata": {
    "slideshow": {
     "slide_type": "fragment"
    }
   },
   "source": [
    "## Números y operaciones"
   ]
  },
  {
   "cell_type": "code",
   "execution_count": 2,
   "metadata": {
    "collapsed": false,
    "slideshow": {
     "slide_type": "fragment"
    }
   },
   "outputs": [
    {
     "data": {
      "text/plain": [
       "11"
      ]
     },
     "execution_count": 2,
     "metadata": {},
     "output_type": "execute_result"
    }
   ],
   "source": [
    "5 + 6"
   ]
  },
  {
   "cell_type": "code",
   "execution_count": 3,
   "metadata": {
    "collapsed": false,
    "slideshow": {
     "slide_type": "fragment"
    }
   },
   "outputs": [
    {
     "data": {
      "text/plain": [
       "-3"
      ]
     },
     "execution_count": 3,
     "metadata": {},
     "output_type": "execute_result"
    }
   ],
   "source": [
    "5 - 8 "
   ]
  },
  {
   "cell_type": "code",
   "execution_count": 4,
   "metadata": {
    "collapsed": false,
    "slideshow": {
     "slide_type": "fragment"
    }
   },
   "outputs": [
    {
     "data": {
      "text/plain": [
       "40"
      ]
     },
     "execution_count": 4,
     "metadata": {},
     "output_type": "execute_result"
    }
   ],
   "source": [
    "5 * 8"
   ]
  },
  {
   "cell_type": "code",
   "execution_count": 5,
   "metadata": {
    "collapsed": false,
    "slideshow": {
     "slide_type": "fragment"
    }
   },
   "outputs": [
    {
     "data": {
      "text/plain": [
       "5.0"
      ]
     },
     "execution_count": 5,
     "metadata": {},
     "output_type": "execute_result"
    }
   ],
   "source": [
    "40 / 8"
   ]
  },
  {
   "cell_type": "code",
   "execution_count": 3,
   "metadata": {
    "collapsed": false,
    "slideshow": {
     "slide_type": "fragment"
    }
   },
   "outputs": [
    {
     "data": {
      "text/plain": [
       "13"
      ]
     },
     "execution_count": 3,
     "metadata": {},
     "output_type": "execute_result"
    }
   ],
   "source": [
    "40 / 3"
   ]
  },
  {
   "cell_type": "markdown",
   "metadata": {
    "slideshow": {
     "slide_type": "slide"
    }
   },
   "source": [
    "## Cadenas de caracteres o Strings"
   ]
  },
  {
   "cell_type": "code",
   "execution_count": 4,
   "metadata": {
    "collapsed": false,
    "slideshow": {
     "slide_type": "fragment"
    }
   },
   "outputs": [
    {
     "data": {
      "text/plain": [
       "'Alba'"
      ]
     },
     "execution_count": 4,
     "metadata": {},
     "output_type": "execute_result"
    }
   ],
   "source": [
    "'Alba'"
   ]
  },
  {
   "cell_type": "code",
   "execution_count": 5,
   "metadata": {
    "collapsed": false,
    "slideshow": {
     "slide_type": "fragment"
    }
   },
   "outputs": [
    {
     "data": {
      "text/plain": [
       "'Hola, soyalguien'"
      ]
     },
     "execution_count": 5,
     "metadata": {},
     "output_type": "execute_result"
    }
   ],
   "source": [
    "'Hola, soy ' + 'alguien'"
   ]
  },
  {
   "cell_type": "code",
   "execution_count": 9,
   "metadata": {
    "collapsed": false,
    "slideshow": {
     "slide_type": "fragment"
    }
   },
   "outputs": [
    {
     "data": {
      "text/plain": [
       "str"
      ]
     },
     "execution_count": 9,
     "metadata": {},
     "output_type": "execute_result"
    }
   ],
   "source": [
    "type('alguien')"
   ]
  },
  {
   "cell_type": "code",
   "execution_count": 9,
   "metadata": {
    "collapsed": false,
    "slideshow": {
     "slide_type": "fragment"
    }
   },
   "outputs": [
    {
     "data": {
      "text/plain": [
       "7"
      ]
     },
     "execution_count": 9,
     "metadata": {},
     "output_type": "execute_result"
    }
   ],
   "source": [
    "len('alguien')"
   ]
  },
  {
   "cell_type": "code",
   "execution_count": 7,
   "metadata": {
    "collapsed": false,
    "slideshow": {
     "slide_type": "fragment"
    }
   },
   "outputs": [
    {
     "data": {
      "text/plain": [
       "'eco, eco, eco, eco, eco'"
      ]
     },
     "execution_count": 7,
     "metadata": {},
     "output_type": "execute_result"
    }
   ],
   "source": [
    "a = 'eco, '*5\n",
    "a[:-2]"
   ]
  },
  {
   "cell_type": "markdown",
   "metadata": {
    "slideshow": {
     "slide_type": "slide"
    }
   },
   "source": [
    "## Variables. \n",
    "\n",
    "Las variables sirven para guardar cosas que.... \n",
    "\n",
    "queremos usar (o no) después"
   ]
  },
  {
   "cell_type": "markdown",
   "metadata": {
    "slideshow": {
     "slide_type": "fragment"
    }
   },
   "source": [
    "Lo bueno es que python te las crea a medida que las necesitas."
   ]
  },
  {
   "cell_type": "code",
   "execution_count": 8,
   "metadata": {
    "collapsed": false,
    "slideshow": {
     "slide_type": "fragment"
    }
   },
   "outputs": [
    {
     "name": "stdout",
     "output_type": "stream",
     "text": [
      "maria de la santa cruz rosalina agnelia rodriguez cuellar rene <class 'str'>\n"
     ]
    }
   ],
   "source": [
    "nombre = 'maria de la santa cruz rosalina agnelia rodriguez cuellar rene'\n",
    "print(nombre, type(nombre))"
   ]
  },
  {
   "cell_type": "code",
   "execution_count": 13,
   "metadata": {
    "collapsed": false,
    "slideshow": {
     "slide_type": "fragment"
    }
   },
   "outputs": [
    {
     "data": {
      "text/plain": [
       "5"
      ]
     },
     "execution_count": 13,
     "metadata": {},
     "output_type": "execute_result"
    }
   ],
   "source": [
    "len(nombre)"
   ]
  },
  {
   "cell_type": "code",
   "execution_count": 14,
   "metadata": {
    "collapsed": true,
    "slideshow": {
     "slide_type": "fragment"
    }
   },
   "outputs": [],
   "source": [
    "saludo = 'Hola, soy '"
   ]
  },
  {
   "cell_type": "code",
   "execution_count": 15,
   "metadata": {
    "collapsed": false,
    "slideshow": {
     "slide_type": "fragment"
    }
   },
   "outputs": [
    {
     "data": {
      "text/plain": [
       "'Hola, soy Elena'"
      ]
     },
     "execution_count": 15,
     "metadata": {},
     "output_type": "execute_result"
    }
   ],
   "source": [
    "saludo + nombre  "
   ]
  },
  {
   "cell_type": "markdown",
   "metadata": {
    "slideshow": {
     "slide_type": "slide"
    }
   },
   "source": [
    "## Listas y tuplas\n",
    "Hay que diferenciar entre tuplas () y listas []"
   ]
  },
  {
   "cell_type": "code",
   "execution_count": 16,
   "metadata": {
    "collapsed": true,
    "slideshow": {
     "slide_type": "fragment"
    }
   },
   "outputs": [],
   "source": [
    "dedos = ('Pulgar', 'Índice', 'Corazón', 'Anular', 'Meñique')\n",
    "lista_de_cosas = ['AngulADA', 'QuedADA', 'CostillADA']"
   ]
  },
  {
   "cell_type": "code",
   "execution_count": 17,
   "metadata": {
    "collapsed": false,
    "slideshow": {
     "slide_type": "fragment"
    }
   },
   "outputs": [
    {
     "data": {
      "text/plain": [
       "3"
      ]
     },
     "execution_count": 17,
     "metadata": {},
     "output_type": "execute_result"
    }
   ],
   "source": [
    "len(dedos) \n",
    "len(lista_de_cosas)"
   ]
  },
  {
   "cell_type": "code",
   "execution_count": 18,
   "metadata": {
    "collapsed": true,
    "slideshow": {
     "slide_type": "fragment"
    }
   },
   "outputs": [],
   "source": [
    "lista_de_cosas.append('EscapADA')\n",
    "lista_de_cosas.append('AtolondrADA')"
   ]
  },
  {
   "cell_type": "code",
   "execution_count": 19,
   "metadata": {
    "collapsed": false,
    "slideshow": {
     "slide_type": "fragment"
    }
   },
   "outputs": [
    {
     "data": {
      "text/plain": [
       "5"
      ]
     },
     "execution_count": 19,
     "metadata": {},
     "output_type": "execute_result"
    }
   ],
   "source": [
    "len(lista_de_cosas)"
   ]
  },
  {
   "cell_type": "code",
   "execution_count": 20,
   "metadata": {
    "collapsed": true,
    "slideshow": {
     "slide_type": "fragment"
    }
   },
   "outputs": [],
   "source": [
    "manos = dedos * 2"
   ]
  },
  {
   "cell_type": "markdown",
   "metadata": {
    "slideshow": {
     "slide_type": "notes"
    }
   },
   "source": [
    "imprimir manos, hacer un set de manos"
   ]
  },
  {
   "cell_type": "markdown",
   "metadata": {
    "slideshow": {
     "slide_type": "slide"
    }
   },
   "source": [
    "## Diccionarios\n",
    "\n",
    "Estructura diferente representado como {}.\n",
    "\n",
    "Un diccionario muy conocido es el JSON.\n",
    "\n",
    "Son pares de clave - valor. La clave suele ser una cadena de texto y el valor... cualquier cosa\n",
    "\n",
    "Son muy eficientes para busquedas concretas pero son horrorosos cuando tienes que recorrer sus elementos\n",
    "\n",
    "https://learnpythonthehardway.org/book/ex39.html"
   ]
  },
  {
   "cell_type": "code",
   "execution_count": 21,
   "metadata": {
    "collapsed": true,
    "slideshow": {
     "slide_type": "fragment"
    }
   },
   "outputs": [],
   "source": [
    "diccionario =   {}"
   ]
  },
  {
   "cell_type": "code",
   "execution_count": 22,
   "metadata": {
    "collapsed": true,
    "slideshow": {
     "slide_type": "subslide"
    }
   },
   "outputs": [],
   "source": [
    "diccionario['edad'] = 28\n",
    "diccionario['vive'] = 'Barcelona'\n",
    "diccionario['le gusta'] = ['tecnologia', 'animales', 'verduras', 'viajar']\n",
    "diccionario['ojos'] = 'rosas'\n",
    "diccionario['disgusta'] = ['violencia']\n",
    "diccionario['practica_deporte'] = False\n",
    "diccionario['viste'] = 'casual'\n",
    "diccionario['trabaja'] = True"
   ]
  },
  {
   "cell_type": "markdown",
   "metadata": {
    "slideshow": {
     "slide_type": "slide"
    }
   },
   "source": [
    "## Funciones\n",
    "\n",
    "Las funciones son cajas negras en las que introducimos cosas y recogemos resultados.\n",
    "\n",
    "  * Fabrica\n",
    "  * Ministerio\n",
    "  * Politicos\n",
    "  * Personas\n"
   ]
  },
  {
   "cell_type": "code",
   "execution_count": 23,
   "metadata": {
    "collapsed": false,
    "slideshow": {
     "slide_type": "fragment"
    }
   },
   "outputs": [
    {
     "name": "stdout",
     "output_type": "stream",
     "text": [
      "Hello, AdaJS!\n",
      "Have a nice day\n"
     ]
    }
   ],
   "source": [
    "def sayHelloTo(name):\n",
    "    print(\"Hello, {}!\\nHave a nice day\".format(name))\n",
    "    \n",
    "sayHelloTo(\"AdaJS\")"
   ]
  },
  {
   "cell_type": "markdown",
   "metadata": {
    "slideshow": {
     "slide_type": "slide"
    }
   },
   "source": [
    "## Clases\n",
    "\n",
    "Las clases permiten representar el comportamiento del mundo real.\n",
    "\n",
    "  * Persona\n",
    "  * Animal\n",
    "  * Casa\n",
    "  * Ciudad\n",
    "  * Dinero\n"
   ]
  },
  {
   "cell_type": "code",
   "execution_count": 24,
   "metadata": {
    "collapsed": true,
    "slideshow": {
     "slide_type": "subslide"
    }
   },
   "outputs": [],
   "source": [
    "class Casa(object):\n",
    "    \n",
    "    def __init__(self, tamaño, propietario, habitaciones=3, lavabos=2, cocina=1, balcon=None):\n",
    "        self.tamaño = tamaño\n",
    "        self.propietario = propietario\n",
    "        self.habitaciones = habitaciones\n",
    "        self.lavabos = lavabos\n",
    "        self.cocina = cocina\n",
    "        self.balcon = balcon\n",
    "        \n",
    "    def cambio_propietario(self, nuevo_propietario):\n",
    "        self.propietario = nuevo_propietario\n",
    "        \n",
    "    def hacer_nueva_habitacion(self):\n",
    "        self.habitaciones += 1\n",
    "        \n",
    "    def hacer_nuevo_balcon(self):\n",
    "        if self.balcon is not None:\n",
    "            self.balcon += 1\n",
    "        else:\n",
    "            self.balcon = 1\n",
    "        \n",
    "    def tiene_balcon(self):\n",
    "        return False if self.balcon is None else True\n",
    "    \n",
    "    def __str__(self):\n",
    "        return \"\"\"Casa de {} de tamaño {}m2.\\nCon {} habitaciones y {} lavabos.\"\"\".format(self.propietario, \n",
    "                                                                                         self.tamaño, \n",
    "                                                                                         self.habitaciones, \n",
    "                                                                                         self.lavabos)"
   ]
  },
  {
   "cell_type": "markdown",
   "metadata": {
    "collapsed": true,
    "slideshow": {
     "slide_type": "slide"
    }
   },
   "source": [
    "# Bucles\n",
    "\n",
    "## For & While\n",
    "\n",
    "```for elemento in something:\n",
    "    do_something```\n",
    "    \n",
    "```while condition:\n",
    "    do_something else```"
   ]
  },
  {
   "cell_type": "code",
   "execution_count": 31,
   "metadata": {
    "collapsed": false,
    "slideshow": {
     "slide_type": "subslide"
    }
   },
   "outputs": [
    {
     "name": "stdout",
     "output_type": "stream",
     "text": [
      "No, aqui no\n",
      "Lo he encontrado!\n",
      "No, aqui no\n",
      "No, aqui no\n",
      "No, aqui no\n",
      "No, aqui no\n",
      "No, aqui no\n",
      "No, aqui no\n"
     ]
    }
   ],
   "source": [
    "lugares = [0, 1, 0, 0, 0, 0, 0, 0]\n",
    "for lugar in lugares:\n",
    "    if lugar == 1:\n",
    "        print(\"Lo he encontrado!\")\n",
    "    else:\n",
    "        print(\"No, aqui no\")"
   ]
  },
  {
   "cell_type": "code",
   "execution_count": 30,
   "metadata": {
    "collapsed": false,
    "slideshow": {
     "slide_type": "fragment"
    }
   },
   "outputs": [
    {
     "name": "stdout",
     "output_type": "stream",
     "text": [
      "Parece ser que aqui no\n",
      "Lo he encontrado\n",
      "Parece ser que aqui no\n",
      "Parece ser que aqui no\n",
      "Parece ser que aqui no\n",
      "Parece ser que aqui no\n",
      "Parece ser que aqui no\n",
      "Parece ser que aqui no\n"
     ]
    }
   ],
   "source": [
    "i = 0\n",
    "while i < len(lugares):\n",
    "    if lugares[i] == 1:\n",
    "        print(\"Lo he encontrado\")\n",
    "    else:\n",
    "        print(\"Parece ser que aqui no\")\n",
    "    i+=1"
   ]
  },
  {
   "cell_type": "markdown",
   "metadata": {
    "slideshow": {
     "slide_type": "slide"
    }
   },
   "source": [
    "# Condicionales \n",
    "\n",
    "## IFs\n",
    "\n",
    "```if condition:\n",
    "    do_something\n",
    "elif other_condition:\n",
    "    do_something_diferent\n",
    "...\n",
    "else:\n",
    "    faint()```"
   ]
  },
  {
   "cell_type": "markdown",
   "metadata": {
    "slideshow": {
     "slide_type": "slide"
    }
   },
   "source": [
    "# Ejerciciopara hacer:\n",
    "\n",
    "### Calculadora pesada\n",
    "\n",
    "1. Nos lista las operaciones. Usar `print`\n",
    "2. Lee la operacion que queremos hacer. Usar `input`\n",
    "3. Hace la operacion y imprime el resultado `print`\n",
    "4. Nos pregunta si queremos guardar la operacion en el log `write`\n",
    "5. Preguntar si quiere realizar otra operacion, sino seguir"
   ]
  },
  {
   "cell_type": "markdown",
   "metadata": {
    "slideshow": {
     "slide_type": "slide"
    }
   },
   "source": [
    "## 1. Listar de operaciones\n",
    "\n",
    "Operaciones:\n",
    "- Suma: x + y\n",
    "- Resta: x - y\n",
    "- Multiplicacion: x * y\n",
    "- Division: x / y\n",
    "- Modulo: x % y\n"
   ]
  },
  {
   "cell_type": "code",
   "execution_count": 25,
   "metadata": {
    "collapsed": true,
    "slideshow": {
     "slide_type": "fragment"
    }
   },
   "outputs": [],
   "source": [
    "#!/usr/bin/env python\n",
    "\"\"\"A simple python script template.\n",
    "\"\"\"\n",
    "import sys\n",
    "\n",
    "def main(arguments):\n",
    "\n",
    "    # Your code goes here\n",
    "    return 0\n",
    "\n",
    "# this is a directive to tell the interpreter what to do when executed in standalone\n",
    "if __name__ == '__main__':\n",
    "    main(sys.argv[1:])"
   ]
  },
  {
   "cell_type": "code",
   "execution_count": 13,
   "metadata": {
    "collapsed": false,
    "slideshow": {
     "slide_type": "subslide"
    }
   },
   "outputs": [
    {
     "name": "stdout",
     "output_type": "stream",
     "text": [
      "Que operacion quieres hacer?\n",
      "\tSumar: x + y\n",
      "\tRestar: x - y\n",
      "\tMultiplicar: x * y\n",
      "\tDividir: x / y\n",
      "\tModulo: x % b\n"
     ]
    }
   ],
   "source": [
    "#!/usr/bin/env python\n",
    "\"\"\"\n",
    "    A simple Calculator\n",
    "\"\"\"\n",
    "import sys\n",
    "\n",
    "def listar_operaciones():\n",
    "    # Listamos las operaciones\n",
    "    operations = ['Sumar: x + y', \n",
    "                  'Restar: x - y', \n",
    "                  'Multiplicar: x * y', \n",
    "                  'Dividir: x / y', \n",
    "                  'Modulo: x % b']\n",
    "    \n",
    "    #Imprimimos las instrucciones\n",
    "    print(\"Que operacion quieres hacer?\")\n",
    "    for operation in operations:\n",
    "        print(\"\\t{}\".format(operation))\n",
    "        \n",
    "def main(arguments):\n",
    "    listar_operaciones()\n",
    "\n",
    "# this is a directive to tell the interpreter what to do when executed in standalone\n",
    "if __name__ == '__main__':\n",
    "    main(sys.argv[1:])"
   ]
  },
  {
   "cell_type": "markdown",
   "metadata": {
    "slideshow": {
     "slide_type": "slide"
    }
   },
   "source": [
    "## 2. Modificarlo para lea la operacion que queremos hacer\n",
    "\n",
    "https://docs.python.org/3/library/functions.html#input\n",
    "\n",
    "Propuesta: \n",
    "- Poner como restriccion el espacio requerido entre numero y simbolo de operacion\n",
    "- Usar la libreria re: \n",
    "\n",
    "    >`import re`\n",
    "    >\n",
    "    >`  list_elem = re.split('\\s', inputstring)`\n",
    "    >\n",
    "- Modificar el `main()`"
   ]
  },
  {
   "cell_type": "code",
   "execution_count": 14,
   "metadata": {
    "collapsed": false,
    "slideshow": {
     "slide_type": "subslide"
    }
   },
   "outputs": [
    {
     "name": "stdout",
     "output_type": "stream",
     "text": [
      "Que operacion quieres hacer?\n",
      "\tSumar: x + y\n",
      "\tRestar: x - y\n",
      "\tMultiplicar: x * y\n",
      "\tDividir: x / y\n",
      "\tModulo: x % b\n",
      "-->1234 / 123\n"
     ]
    }
   ],
   "source": [
    "\n",
    "def leer_operacion():\n",
    "    import re\n",
    "    operation = input('-->')\n",
    "    list_elem = re.split('\\s',operation)\n",
    "    return list_elem\n",
    "\n",
    "\n",
    "\n",
    "def main():\n",
    "    listar_operaciones()\n",
    "    operacion = leer_operacion()\n",
    "    \n",
    "main()\n"
   ]
  },
  {
   "cell_type": "markdown",
   "metadata": {
    "slideshow": {
     "slide_type": "slide"
    }
   },
   "source": [
    "## 3. Modicamos para que realice la operacion y escriba el resultado\n",
    "\n",
    "Aplicar la indexacion de o slicing de listas"
   ]
  },
  {
   "cell_type": "code",
   "execution_count": 19,
   "metadata": {
    "collapsed": true,
    "slideshow": {
     "slide_type": "subslide"
    }
   },
   "outputs": [],
   "source": [
    "def realizar_operacion(operation_list):\n",
    "    from time import sleep\n",
    "    resultado = 0\n",
    "    if operation_list[1] == '+':\n",
    "        # Vamos a sumar!\n",
    "        resultado = int(operation_list[0]) + int(operation_list[-1])\n",
    "    elif operation_list[1] == '-':\n",
    "        # vamos a restar\n",
    "        resultado = int(operation_list[0]) - int(operation_list[-1])\n",
    "    elif operation_list[1] == '*':\n",
    "        # vamos a multiplicar\n",
    "        resultado = int(operation_list[0]) * int(operation_list[-1])\n",
    "    elif operation_list[1] == '/' :\n",
    "        # vamos a dividir\n",
    "        resultado = int(operation_list[0]) / int(operation_list[-1])\n",
    "    elif operation_list[1] == '%':\n",
    "        # vamos a hacer un modulus\n",
    "        resultado = int(operation_list[0]) % int(operation_list[-1])\n",
    "    else:\n",
    "        sleep(1.5)\n",
    "        resultado = \"No entiendo lo que me pides...\"\n",
    "    return resultado"
   ]
  },
  {
   "cell_type": "code",
   "execution_count": 21,
   "metadata": {
    "collapsed": false,
    "slideshow": {
     "slide_type": "slide"
    }
   },
   "outputs": [
    {
     "name": "stdout",
     "output_type": "stream",
     "text": [
      "Que operacion quieres hacer?\n",
      "\tSumar: x + y\n",
      "\tRestar: x - y\n",
      "\tMultiplicar: x * y\n",
      "\tDividir: x / y\n",
      "\tModulo: x % b\n",
      "-->123234 ^ 123\n",
      "No entiendo lo que me pides...\n"
     ]
    }
   ],
   "source": [
    "def main():\n",
    "    listar_operaciones()\n",
    "    operacion = leer_operacion()\n",
    "    resultado = realizar_operacion(operacion)\n",
    "    print(\"{}\".format(resultado))\n",
    "    \n",
    "main()"
   ]
  },
  {
   "cell_type": "markdown",
   "metadata": {
    "slideshow": {
     "slide_type": "slide"
    }
   },
   "source": [
    "## 4. Guardamos?\n",
    "\n",
    "https://docs.python.org/3/tutorial/inputoutput.html#reading-and-writing-files\n",
    "\n",
    "Usar `write` (https://docs.python.org/3/library/functions.html#open)"
   ]
  },
  {
   "cell_type": "code",
   "execution_count": 46,
   "metadata": {
    "collapsed": true,
    "slideshow": {
     "slide_type": "fragment"
    }
   },
   "outputs": [],
   "source": [
    "def guardar(valor, operacion):\n",
    "    eleccion = input(\"Quieres guardar [S, N]? \")\n",
    "    if eleccion in ['S', 's']:\n",
    "        f = open('resultado_calculadora.txt', 'a')\n",
    "        f.write(\"{} = {}\\n\".format(' '.join(operacion), valor))\n",
    "        f.close()"
   ]
  },
  {
   "cell_type": "code",
   "execution_count": null,
   "metadata": {
    "collapsed": true,
    "slideshow": {
     "slide_type": "fragment"
    }
   },
   "outputs": [],
   "source": [
    "def guardar(valor, operacion):\n",
    "    eleccion = input(\"Quieres guardar [S, N]? \")\n",
    "    if eleccion in ['S', 's']:\n",
    "        with open('resultado_calculadora.txt', 'a') as f:\n",
    "            f.write(\"{} = {}\\n\".format(' '.join(operation), valor))"
   ]
  },
  {
   "cell_type": "code",
   "execution_count": 47,
   "metadata": {
    "collapsed": false,
    "slideshow": {
     "slide_type": "slide"
    }
   },
   "outputs": [
    {
     "name": "stdout",
     "output_type": "stream",
     "text": [
      "Que operacion quieres hacer?\n",
      "\tSumar: x + y\n",
      "\tRestar: x - y\n",
      "\tMultiplicar: x * y\n",
      "\tDividir: x / y\n",
      "\tModulo: x % b\n",
      "-->1243251325 * 1231243123\n",
      "1530744644066887975\n",
      "Quieres guardar(S/N)? S\n"
     ]
    }
   ],
   "source": [
    "def main():\n",
    "    listar_operaciones()\n",
    "    operacion = leer_operacion()\n",
    "    resultado = realizar_operacion(operacion)\n",
    "    print(\"{}\".format(round(resultado, 2)))\n",
    "    guardar(resultado, operacion)\n",
    "          \n",
    "main()"
   ]
  },
  {
   "cell_type": "markdown",
   "metadata": {
    "slideshow": {
     "slide_type": "slide"
    }
   },
   "source": [
    "## 5. Otra operacion\n",
    "\n",
    "- Usar un bucle infinito (`while True`) y romperlo con un `break` cuando se cumplan las condiciones"
   ]
  },
  {
   "cell_type": "code",
   "execution_count": 49,
   "metadata": {
    "collapsed": true
   },
   "outputs": [],
   "source": [
    "def continuar():\n",
    "    continuar = input(\"Quieres hacer otra operacion [S, N]? \")\n",
    "    return True if continuar in ['S', 's'] else False"
   ]
  },
  {
   "cell_type": "code",
   "execution_count": 52,
   "metadata": {
    "collapsed": false,
    "slideshow": {
     "slide_type": "fragment"
    }
   },
   "outputs": [
    {
     "name": "stdout",
     "output_type": "stream",
     "text": [
      "Que operacion quieres hacer?\n",
      "\tSumar: x + y\n",
      "\tRestar: x - y\n",
      "\tMultiplicar: x * y\n",
      "\tDividir: x / y\n",
      "\tModulo: x % b\n",
      "-->1234 / 123\n",
      "Resultado: 10.03\n",
      "Quieres guardar(S/N)? s\n",
      "Quieres hacer otra operacion [S, N]? s\n",
      "Que operacion quieres hacer?\n",
      "\tSumar: x + y\n",
      "\tRestar: x - y\n",
      "\tMultiplicar: x * y\n",
      "\tDividir: x / y\n",
      "\tModulo: x % b\n",
      "-->351451 * 13245\n",
      "Resultado: 4654968495\n",
      "Quieres guardar(S/N)? S\n",
      "Quieres hacer otra operacion [S, N]? n\n",
      "Adieu!\n"
     ]
    }
   ],
   "source": [
    "def main():\n",
    "    while True:\n",
    "        listar_operaciones()\n",
    "        operacion = leer_operacion()\n",
    "        resultado = realizar_operacion(operacion)\n",
    "        print(\"Resultado: {}\".format(round(resultado, 2)))\n",
    "        guardar(resultado, operacion)\n",
    "        if not continuar():\n",
    "            print (\"Adieu!\")\n",
    "            break\n",
    "main()"
   ]
  }
 ],
 "metadata": {
  "celltoolbar": "Slideshow",
  "kernelspec": {
   "display_name": "Python 3",
   "language": "python",
   "name": "python3"
  },
  "language_info": {
   "codemirror_mode": {
    "name": "ipython",
    "version": 3
   },
   "file_extension": ".py",
   "mimetype": "text/x-python",
   "name": "python",
   "nbconvert_exporter": "python",
   "pygments_lexer": "ipython3",
   "version": "3.5.2"
  }
 },
 "nbformat": 4,
 "nbformat_minor": 1
}
